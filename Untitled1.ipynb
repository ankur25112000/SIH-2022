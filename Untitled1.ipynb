{
 "cells": [
  {
   "cell_type": "code",
   "execution_count": 1,
   "id": "a55a3437",
   "metadata": {},
   "outputs": [
    {
     "data": {
      "text/plain": [
       "'Topic sentences are similar to mini thesis statements. Like a thesis statement, a topic sentence has a specific main point. Whereas the thesis is the main point of the essay, the topic sentence is the main point of the paragraph. Like the thesis statement, a topic sentence has a unifying function. But a thesis statement or topic sentence alone doesn’t guarantee unity. An essay is unified if all the paragraphs relate to the thesis, whereas a paragraph is unified if all the sentences relate to the topic sentence. Note: Not all paragraphs need topic sentences. In particular, opening and closing paragraphs, which serve different functions from body paragraphs, generally don’t have topic sentences.'"
      ]
     },
     "execution_count": 1,
     "metadata": {},
     "output_type": "execute_result"
    }
   ],
   "source": [
    "f = open(\"msft.txt\", \"r\", encoding=\"utf8\")\n",
    "f.read()"
   ]
  },
  {
   "cell_type": "code",
   "execution_count": 2,
   "id": "be95d03b",
   "metadata": {},
   "outputs": [
    {
     "name": "stderr",
     "output_type": "stream",
     "text": [
      "No model was supplied, defaulted to sshleifer/distilbart-cnn-12-6 (https://huggingface.co/sshleifer/distilbart-cnn-12-6)\n"
     ]
    }
   ],
   "source": [
    "from transformers import pipeline\n",
    "\n",
    "# using pipeline API for summarization task\n",
    "summarization = pipeline(\"summarization\")\n",
    "\n"
   ]
  },
  {
   "cell_type": "code",
   "execution_count": null,
   "id": "a9f6f08a",
   "metadata": {},
   "outputs": [],
   "source": []
  },
  {
   "cell_type": "code",
   "execution_count": 3,
   "id": "163f1ce8",
   "metadata": {},
   "outputs": [
    {
     "data": {
      "text/plain": [
       "'Topic sentences are similar to mini thesis statements. Like a thesis statement, a topic sentence has a specific main point. Whereas the thesis is the main point of the essay, the topic sentence is the main point of the paragraph. Like the thesis statement, a topic sentence has a unifying function. But a thesis statement or topic sentence alone doesn’t guarantee unity. An essay is unified if all the paragraphs relate to the thesis, whereas a paragraph is unified if all the sentences relate to the topic sentence. Note: Not all paragraphs need topic sentences. In particular, opening and closing paragraphs, which serve different functions from body paragraphs, generally don’t have topic sentences.'"
      ]
     },
     "execution_count": 3,
     "metadata": {},
     "output_type": "execute_result"
    }
   ],
   "source": [
    "f = open(\"msft.txt\", \"r\",encoding=\"utf8\")\n",
    "fil=f.read()\n",
    "fil"
   ]
  },
  {
   "cell_type": "code",
   "execution_count": 4,
   "id": "381e60ed",
   "metadata": {},
   "outputs": [
    {
     "name": "stderr",
     "output_type": "stream",
     "text": [
      "Your max_length is set to 142, but you input_length is only 138. You might consider decreasing max_length manually, e.g. summarizer('...', max_length=69)\n"
     ]
    },
    {
     "name": "stdout",
     "output_type": "stream",
     "text": [
      "Summary:  Topic sentences are similar to mini thesis statements . Like a thesis statement, a topic sentence has a specific main point . An essay is unified if all the paragraphs relate to the thesis . Not all paragraphs need topic sentences . In particular, opening and closing paragraphs generally don't have topics sentences .\n"
     ]
    }
   ],
   "source": [
    "summary_text = summarization(fil)[0]['summary_text']\n",
    "print(\"Summary:\", summary_text)"
   ]
  },
  {
   "cell_type": "code",
   "execution_count": 5,
   "id": "3a072406",
   "metadata": {},
   "outputs": [],
   "source": [
    "import yake\n"
   ]
  },
  {
   "cell_type": "code",
   "execution_count": 6,
   "id": "07ebe7ea",
   "metadata": {},
   "outputs": [],
   "source": [
    "kw_extractor = yake.KeywordExtractor(top=20, stopwords=None)"
   ]
  },
  {
   "cell_type": "code",
   "execution_count": 7,
   "id": "6107abd9",
   "metadata": {},
   "outputs": [],
   "source": [
    "keywords = kw_extractor.extract_keywords(fil)"
   ]
  },
  {
   "cell_type": "code",
   "execution_count": 8,
   "id": "7af4f312",
   "metadata": {},
   "outputs": [
    {
     "name": "stdout",
     "output_type": "stream",
     "text": [
      "Keyphrase:  topic sentence : score 0.039385789520176434\n",
      "Keyphrase:  Topic : score 0.04753707348751922\n",
      "Keyphrase:  thesis : score 0.06228734758860027\n",
      "Keyphrase:  thesis statement : score 0.06415049119073744\n",
      "Keyphrase:  mini thesis statements : score 0.06534063868331844\n",
      "Keyphrase:  main point : score 0.07275520392827488\n",
      "Keyphrase:  sentence : score 0.08652642419404216\n",
      "Keyphrase:  similar to mini : score 0.08773588146216808\n",
      "Keyphrase:  sentences : score 0.10815803024255269\n",
      "Keyphrase:  mini thesis : score 0.11874309059212462\n",
      "Keyphrase:  point : score 0.1381632871353592\n",
      "Keyphrase:  statement : score 0.14394884466248087\n",
      "Keyphrase:  main : score 0.1440814813260503\n",
      "Keyphrase:  paragraphs : score 0.1591614128561018\n",
      "Keyphrase:  specific main point : score 0.19300643676020385\n",
      "Keyphrase:  similar : score 0.28400559401558517\n",
      "Keyphrase:  mini : score 0.28400559401558517\n",
      "Keyphrase:  paragraph : score 0.3183228257122036\n",
      "Keyphrase:  essay : score 0.3188461903354834\n",
      "Keyphrase:  unified : score 0.32776588432353654\n"
     ]
    }
   ],
   "source": [
    "for kw, v in keywords:\n",
    "  print(\"Keyphrase: \",kw, \": score\", v)"
   ]
  },
  {
   "cell_type": "code",
   "execution_count": 9,
   "id": "cfa40275",
   "metadata": {},
   "outputs": [
    {
     "name": "stdout",
     "output_type": "stream",
     "text": [
      "Requirement already satisfied: fpdf in c:\\anaconda\\lib\\site-packages (1.7.2)\n"
     ]
    }
   ],
   "source": [
    "!pip install fpdf"
   ]
  },
  {
   "cell_type": "code",
   "execution_count": null,
   "id": "888bcc54",
   "metadata": {},
   "outputs": [],
   "source": []
  }
 ],
 "metadata": {
  "kernelspec": {
   "display_name": "Python 3",
   "language": "python",
   "name": "python3"
  },
  "language_info": {
   "codemirror_mode": {
    "name": "ipython",
    "version": 3
   },
   "file_extension": ".py",
   "mimetype": "text/x-python",
   "name": "python",
   "nbconvert_exporter": "python",
   "pygments_lexer": "ipython3",
   "version": "3.8.8"
  }
 },
 "nbformat": 4,
 "nbformat_minor": 5
}
